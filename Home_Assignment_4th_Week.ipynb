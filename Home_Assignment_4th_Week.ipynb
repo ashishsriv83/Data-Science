{
  "nbformat": 4,
  "nbformat_minor": 5,
  "metadata": {
    "kernelspec": {
      "display_name": "Python 3",
      "language": "python",
      "name": "python3"
    },
    "language_info": {
      "codemirror_mode": {
        "name": "ipython",
        "version": 3
      },
      "file_extension": ".py",
      "mimetype": "text/x-python",
      "name": "python",
      "nbconvert_exporter": "python",
      "pygments_lexer": "ipython3",
      "version": "3.8.8"
    },
    "colab": {
      "name": "Home_Assignment_4th-Week.ipynb",
      "provenance": [],
      "include_colab_link": true
    }
  },
  "cells": [
    {
      "cell_type": "markdown",
      "metadata": {
        "id": "view-in-github",
        "colab_type": "text"
      },
      "source": [
        "<a href=\"https://colab.research.google.com/github/ashishsriv83/Data-Science/blob/main/Home_Assignment_4th_Week.ipynb\" target=\"_parent\"><img src=\"https://colab.research.google.com/assets/colab-badge.svg\" alt=\"Open In Colab\"/></a>"
      ]
    },
    {
      "cell_type": "markdown",
      "metadata": {
        "id": "6edbda7e"
      },
      "source": [
        "1. Take input of age of 3 people by user and determine oldest and youngest among them"
      ],
      "id": "6edbda7e"
    },
    {
      "cell_type": "code",
      "metadata": {
        "colab": {
          "base_uri": "https://localhost:8080/"
        },
        "id": "MKCX43SgZwfs",
        "outputId": "8731abe8-658b-4c34-c6db-0ec178332c24"
      },
      "source": [
        "person1=eval(input(\"enter age of first person : \"))\n",
        "person2=eval(input(\"enter age of second person :\"))\n",
        "person3=eval(input(\"enter age od third person\"))\n",
        "if person1>person2 and person1>person3:\n",
        " print(\"person1 is oldest\")\n",
        "elif person2>person1 and person2>person3:\n",
        "  print(\"person2 is oldest\")\n",
        "elif person3>person1 and person3>person2:\n",
        "   print(\"person3 is oldest\")\n",
        "if person1<person2 and person1<person3:\n",
        " print(\"person1 is youngest\")\n",
        "elif person2<person1 and person2<person3:\n",
        "  print(\"person2 is youngest\")\n",
        "elif person3<person1 and person3<person2:\n",
        "   print(\"person3 is youngest\")"
      ],
      "id": "MKCX43SgZwfs",
      "execution_count": 4,
      "outputs": [
        {
          "output_type": "stream",
          "text": [
            "enter age of first person : 50\n",
            "enter age of second person :18\n",
            "enter age od third person21\n",
            "person1 is oldest\n",
            "person2 is youngest\n"
          ],
          "name": "stdout"
        }
      ]
    },
    {
      "cell_type": "code",
      "metadata": {
        "id": "c562877a"
      },
      "source": [
        ""
      ],
      "id": "c562877a",
      "execution_count": null,
      "outputs": []
    },
    {
      "cell_type": "markdown",
      "metadata": {
        "id": "39fda239"
      },
      "source": [
        "2. A student will not be allowed to sit in exam if his/her attendence is less than 75%. Take following input from user\n",
        "  A)Number of classes held\n",
        "  B)Number of classes attended.\n",
        "  And print\n",
        "  percentage of class attended\n",
        "  Is student is allowed to sit in exam or not."
      ],
      "id": "39fda239"
    },
    {
      "cell_type": "code",
      "metadata": {
        "colab": {
          "base_uri": "https://localhost:8080/"
        },
        "id": "b8e46ce2",
        "outputId": "9233c14d-ae4d-443f-a7f7-766d9784489d"
      },
      "source": [
        " C_held=eval(input(\"Number os classes held\"))\n",
        " C_attend=eval(input(\"Number os classes attended\"))\n",
        " attendance=C_attend*100/C_held\n",
        " if attendance<75:\n",
        "   print(\"Students are not allowed to sit in exam\")\n",
        "   \n",
        "else:\n",
        "  #1attendance=classes_held*100/classes_attend\n",
        "  print(\"You are allowed to sit in exam :  \" , attendance)   "
      ],
      "id": "b8e46ce2",
      "execution_count": 34,
      "outputs": [
        {
          "output_type": "stream",
          "text": [
            "Number os classes held100\n",
            "Number os classes attended90\n",
            "You are allowed to sit in exam :   90.0\n"
          ],
          "name": "stdout"
        }
      ]
    },
    {
      "cell_type": "markdown",
      "metadata": {
        "id": "5b01e548"
      },
      "source": [
        "3.print whether The given number is of one digited or two digited or three digited or more than three digited. TAKE THE INPUT FROM USER"
      ],
      "id": "5b01e548"
    },
    {
      "cell_type": "code",
      "metadata": {
        "colab": {
          "base_uri": "https://localhost:8080/"
        },
        "id": "892f2093",
        "outputId": "b179c4b8-fa07-4109-bbec-3fa591b035f2"
      },
      "source": [
        "n=eval(input(\"enter the number\"))\n",
        "if n>0 and n<10:\n",
        "  print(\"number is of one digit\")\n",
        "elif n>9 and n<100:\n",
        "  print(\"number is of Two digit\") \n",
        "elif n>99 and n<1000:\n",
        "  print(\"number is of three digit\")\n",
        "else:\n",
        "  print(\"number is more than three digit\")\n"
      ],
      "id": "892f2093",
      "execution_count": 32,
      "outputs": [
        {
          "output_type": "stream",
          "text": [
            "enter the number1200\n",
            "number is more than three digit\n"
          ],
          "name": "stdout"
        }
      ]
    },
    {
      "cell_type": "markdown",
      "metadata": {
        "id": "c18593fe"
      },
      "source": [
        "4. Take the input(year) from user and check whether it is leap year or not"
      ],
      "id": "c18593fe"
    },
    {
      "cell_type": "code",
      "metadata": {
        "colab": {
          "base_uri": "https://localhost:8080/"
        },
        "id": "023bda15",
        "outputId": "2bdb72a8-f56e-42f4-cc92-a9bce47cdcc8"
      },
      "source": [
        "year = int(input(\"Enter a year: \"))  \n",
        "if (year % 4) == 0:  \n",
        "   if (year % 100) == 0:  \n",
        "       if (year % 400) == 0:  \n",
        "           print(\"{0} is a leap year\".format(year))  \n",
        "       else:  \n",
        "           print(\"{0} is not a leap year\".format(year))  \n",
        "   else:  \n",
        "       print(\"{0} is a leap year\".format(year))  \n",
        "else:  \n",
        "   print(\"{0} is not a leap year\".format(year))"
      ],
      "id": "023bda15",
      "execution_count": 38,
      "outputs": [
        {
          "output_type": "stream",
          "text": [
            "Enter a year: 2008\n",
            "2008 is a leap year\n"
          ],
          "name": "stdout"
        }
      ]
    },
    {
      "cell_type": "markdown",
      "metadata": {
        "id": "94ca70ea"
      },
      "source": [
        "5.Check if a value 200 exists in a dictionary\n",
        "sampleDict = {'a': 100, 'b': 200, 'c': 300}"
      ],
      "id": "94ca70ea"
    },
    {
      "cell_type": "code",
      "metadata": {
        "colab": {
          "base_uri": "https://localhost:8080/"
        },
        "id": "4894c137",
        "outputId": "61e5f8ce-b487-440d-ffcd-a5eed4f2acd0"
      },
      "source": [
        "Dict = {'a': 100, 'b': 200, 'c': 300}\n",
        "key_to_lookup='b'\n",
        "if key_to_lookup in Dict:\n",
        "   print(\"value 200 exits\")\n",
        "else:\n",
        "  print(\"value is not present in dict\")  \n"
      ],
      "id": "4894c137",
      "execution_count": 39,
      "outputs": [
        {
          "output_type": "stream",
          "text": [
            "value 200 exits\n"
          ],
          "name": "stdout"
        }
      ]
    },
    {
      "cell_type": "markdown",
      "metadata": {
        "id": "5c30bb82"
      },
      "source": [
        "6. Create a Nested dictionary and change the values nested dictinary"
      ],
      "id": "5c30bb82"
    },
    {
      "cell_type": "code",
      "metadata": {
        "colab": {
          "base_uri": "https://localhost:8080/"
        },
        "id": "bcbe5a38",
        "outputId": "4e7d9786-fc5f-48b6-fd03-e26c4464e3cd"
      },
      "source": [
        "D={'emp1':{'name':'Ashish','job':'sales'},\n",
        "    'emp2':{'name':'prakash','job':'Marketing'},\n",
        "    'emp3':{'name':'Arun','job':'developer'}    \n",
        "   }\n",
        "D['emp3'] ['name']='Manish'\n",
        "D['emp3'] ['job'] ='Associates Consultants'\n",
        "print(D)"
      ],
      "id": "bcbe5a38",
      "execution_count": 44,
      "outputs": [
        {
          "output_type": "stream",
          "text": [
            "{'emp1': {'name': 'Ashish', 'job': 'sales'}, 'emp2': {'name': 'prakash', 'job': 'Marketing'}, 'emp3': {'name': 'Manish', 'job': 'Associates Consultants'}}\n"
          ],
          "name": "stdout"
        }
      ]
    }
  ]
}